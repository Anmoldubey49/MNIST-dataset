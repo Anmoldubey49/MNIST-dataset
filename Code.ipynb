{
 "cells": [
  {
   "cell_type": "markdown",
   "metadata": {},
   "source": [
    "## Importing Relevant Libraries"
   ]
  },
  {
   "cell_type": "code",
   "execution_count": 1,
   "metadata": {},
   "outputs": [],
   "source": [
    "import numpy as np\n",
    "import tensorflow as tf\n",
    "import tensorflow_datasets as tfds"
   ]
  },
  {
   "cell_type": "markdown",
   "metadata": {},
   "source": [
    "## Loading the data"
   ]
  },
  {
   "cell_type": "code",
   "execution_count": 13,
   "metadata": {},
   "outputs": [],
   "source": [
    "mnist_dataset, mnist_info = tfds.load('mnist', with_info = True, as_supervised = True)\n",
    "## mnist_info contains all the information about the mnist dataset such as number of training and testing samples\n",
    "## as_supervised = True loads the data in 2 tuple format (one containing inputs, second containing targets)\n",
    "\n",
    "mnist_train , mnist_test = mnist_dataset['train'] , mnist_dataset['test']\n",
    "\n",
    "num_validation_samples = 0.1*mnist_info.splits['train'].num_examples\n",
    "num_validation_samples = tf.cast(num_validation_samples, tf.int64)\n",
    "## num_validation_samples contains the number of validation samples, not the actual data but the number only\n",
    "\n",
    "num_test_samples = mnist_info.splits['test'].num_examples\n",
    "num_test_samples = tf.cast(num_test_samples, tf.int64)\n"
   ]
  },
  {
   "cell_type": "markdown",
   "metadata": {},
   "source": [
    "## Preprocessing the data"
   ]
  },
  {
   "cell_type": "markdown",
   "metadata": {},
   "source": [
    "## Scaling the data"
   ]
  },
  {
   "cell_type": "code",
   "execution_count": 29,
   "metadata": {},
   "outputs": [],
   "source": [
    "def scale (image,label):\n",
    "    image = tf.cast(image, tf.float32)\n",
    "    image = image/255.\n",
    "    return image,label\n",
    "\n",
    "## this function helps us scale the input data (training and test data cantaining numbers between 0 and 255 representing different shades of grey to form a number) into a number between 0 and 1\n",
    "\n",
    "scaled_train_validation_data = mnist_train.map(scale)\n",
    "test_data = mnist_train.map(scale)\n",
    "\n",
    "## .map(*function name*) here is used to transform input data in any way we like, it takes in argument a function"
   ]
  },
  {
   "cell_type": "markdown",
   "metadata": {},
   "source": [
    "## Shuffling the data"
   ]
  },
  {
   "cell_type": "code",
   "execution_count": 30,
   "metadata": {},
   "outputs": [],
   "source": [
    "Buffer_size = 10000\n",
    "## number of observations selected at a time to be shuffled\n",
    "\n",
    "shuffled_and_scaled_train_validation_data = scaled_train_validation_data.shuffle(Buffer_size)"
   ]
  },
  {
   "cell_type": "markdown",
   "metadata": {},
   "source": [
    "## Assigning the data to variables"
   ]
  },
  {
   "cell_type": "code",
   "execution_count": 31,
   "metadata": {},
   "outputs": [],
   "source": [
    "validation_data = shuffled_and_scaled_train_validation_data.take(num_validation_samples)\n",
    "## .take() takes out a particular number of samples from the dataset\n",
    "\n",
    "training_data = shuffled_and_scaled_train_validation_data.skip(num_validation_samples)\n",
    "## .skip() leaves behind a particular number of samples from dataset and keeps the rest "
   ]
  },
  {
   "cell_type": "markdown",
   "metadata": {},
   "source": [
    "## Setting Batch size"
   ]
  },
  {
   "cell_type": "code",
   "execution_count": 32,
   "metadata": {},
   "outputs": [],
   "source": [
    "batch_size = 100\n",
    "## batch size decides the number of batches in which our observations will be divided into\n",
    "\n",
    "training_data = training_data.batch(batch_size)\n",
    "validation_data = validation_data.batch(num_validation_samples)\n",
    "test_data = test_data.batch(num_test_samples)\n",
    "\n",
    "validation_input, validation_target = next(iter(validation_data))"
   ]
  },
  {
   "cell_type": "markdown",
   "metadata": {},
   "source": [
    "## Outlining the model"
   ]
  },
  {
   "cell_type": "code",
   "execution_count": 62,
   "metadata": {},
   "outputs": [],
   "source": [
    "output_size = 10\n",
    "input_size = 784\n",
    "hidden_layer_size = 50\n",
    "\n",
    "model = tf.keras.Sequential([\n",
    "                    tf.keras.layers.Flatten(input_shape = (28,28,1)), ##converts tensor to vector so that our model can work on it\n",
    "                    tf.keras.layers.Dense(hidden_layer_size,activation = 'relu'), ## first hidden layer with Relu activation function\n",
    "                    tf.keras.layers.Dense(hidden_layer_size,activation = 'relu'), ## second hidden layer with Relu activation function\n",
    "                    tf.keras.layers.Dense(output_size,activation = 'softmax') ## output layer with softmax activation function because we want the output as a probability\n",
    "                    ])"
   ]
  },
  {
   "cell_type": "markdown",
   "metadata": {},
   "source": [
    "## Choosing the optimizer and loss function"
   ]
  },
  {
   "cell_type": "code",
   "execution_count": 63,
   "metadata": {},
   "outputs": [],
   "source": [
    "model.compile(optimizer = 'adam', loss = 'sparse_categorical_crossentropy', metrics = ['accuracy'])\n",
    "## sparse_categorical_crossentropy loss function "
   ]
  },
  {
   "cell_type": "markdown",
   "metadata": {},
   "source": [
    "## Training the model"
   ]
  },
  {
   "cell_type": "code",
   "execution_count": 64,
   "metadata": {},
   "outputs": [
    {
     "name": "stdout",
     "output_type": "stream",
     "text": [
      "Epoch 1/5\n",
      "540/540 - 10s - loss: 0.4247 - accuracy: 0.8819 - val_loss: 0.2332 - val_accuracy: 0.9370\n",
      "Epoch 2/5\n",
      "540/540 - 5s - loss: 0.1939 - accuracy: 0.9440 - val_loss: 0.1710 - val_accuracy: 0.9497\n",
      "Epoch 3/5\n",
      "540/540 - 5s - loss: 0.1504 - accuracy: 0.9565 - val_loss: 0.1457 - val_accuracy: 0.9577\n",
      "Epoch 4/5\n",
      "540/540 - 5s - loss: 0.1226 - accuracy: 0.9633 - val_loss: 0.1239 - val_accuracy: 0.9643\n",
      "Epoch 5/5\n",
      "540/540 - 6s - loss: 0.1040 - accuracy: 0.9678 - val_loss: 0.1058 - val_accuracy: 0.9692\n"
     ]
    },
    {
     "data": {
      "text/plain": [
       "<tensorflow.python.keras.callbacks.History at 0x1bf09a4ea00>"
      ]
     },
     "execution_count": 64,
     "metadata": {},
     "output_type": "execute_result"
    }
   ],
   "source": [
    "num_epochs = 5\n",
    "model.fit(training_data, epochs = num_epochs,validation_data=(validation_input, validation_target), verbose =2)"
   ]
  },
  {
   "cell_type": "markdown",
   "metadata": {},
   "source": [
    "## Testing our model"
   ]
  },
  {
   "cell_type": "code",
   "execution_count": 40,
   "metadata": {
    "scrolled": true
   },
   "outputs": [
    {
     "name": "stdout",
     "output_type": "stream",
     "text": [
      "6/6 [==============================] - 6s 889ms/step - loss: 0.0401 - accuracy: 0.9887\n"
     ]
    }
   ],
   "source": [
    "test_loss , test_accuracy = model.evaluate(test_data)"
   ]
  },
  {
   "cell_type": "code",
   "execution_count": 42,
   "metadata": {
    "scrolled": true
   },
   "outputs": [
    {
     "name": "stdout",
     "output_type": "stream",
     "text": [
      "Test loss: 0.04. Test accuracy: 98.87%\n"
     ]
    }
   ],
   "source": [
    "print('Test loss: {0:.2f}. Test accuracy: {1:.2f}%'.format(test_loss, test_accuracy*100.))"
   ]
  },
  {
   "cell_type": "markdown",
   "metadata": {},
   "source": [
    "## Conclusion"
   ]
  },
  {
   "cell_type": "markdown",
   "metadata": {},
   "source": [
    "Our model has an accuracy of 98.78% in the real world"
   ]
  }
 ],
 "metadata": {
  "kernelspec": {
   "display_name": "Python 3",
   "language": "python",
   "name": "python3"
  },
  "language_info": {
   "codemirror_mode": {
    "name": "ipython",
    "version": 3
   },
   "file_extension": ".py",
   "mimetype": "text/x-python",
   "name": "python",
   "nbconvert_exporter": "python",
   "pygments_lexer": "ipython3",
   "version": "3.8.5"
  }
 },
 "nbformat": 4,
 "nbformat_minor": 4
}
